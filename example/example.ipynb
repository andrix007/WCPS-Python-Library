{
 "cells": [
  {
   "cell_type": "markdown",
   "metadata": {},
   "source": [
    "# Working with the wdc Package\n",
    "This Jupyter notebook provides an interactive guide to using the `wdc` package for querying geospatial data using WCPS (Web Coverage Processing Service).\n"
   ]
  },
  {
   "cell_type": "markdown",
   "metadata": {},
   "source": [
    "## Introduction\n",
    "The `wdc` package serves as a Python interface to the Web Coverage Processing Service (WCPS), allowing users to perform complex queries on geospatial data. Below, we will demonstrate how to establish a connection with a WCPS server, access a datacube, and perform various data operations.\n"
   ]
  },
  {
   "cell_type": "code",
   "execution_count": 4,
   "metadata": {},
   "outputs": [],
   "source": [
    "# If needed, you can uncomment and run this cell to install the wdc package.\n",
    "# !pip install wdc "
   ]
  },
  {
   "cell_type": "code",
   "execution_count": 2,
   "metadata": {},
   "outputs": [],
   "source": [
    "import sys\n",
    "sys.path.insert(0, sys.path[0] + '/../src')\n",
    "from wdc import connect"
   ]
  },
  {
   "cell_type": "markdown",
   "metadata": {},
   "source": [
    "## Connecting to the WCPS Server\n",
    "To interact with the WCPS server, we must first establish a connection. The `connect` function from the `wdc` package allows us to do just that."
   ]
  },
  {
   "cell_type": "code",
   "execution_count": 5,
   "metadata": {},
   "outputs": [],
   "source": [
    "dbc = connect('https://ows.rasdaman.org/rasdaman/ows')"
   ]
  },
  {
   "cell_type": "markdown",
   "metadata": {},
   "source": [
    "## Fetching Data\n",
    "We can fetch different statistics from our datacube such as the minimum, maximum, and average temperatures. We will demonstrate each of these operations below.\n"
   ]
  },
  {
   "cell_type": "code",
   "execution_count": 6,
   "metadata": {},
   "outputs": [
    {
     "name": "stderr",
     "output_type": "stream",
     "text": [
      "DEBUG:root:Sending WCPS query: for $c in (AvgLandTemp) return min($c[Lat(53.08), Long(8.8), ansi('\"2014-01\":\"2014-12\"')])\n",
      "DEBUG:urllib3.connectionpool:Starting new HTTPS connection (1): ows.rasdaman.org:443\n",
      "/home/aeon/Documents/SE_Sprint1/myvenv/lib/python3.10/site-packages/urllib3/connectionpool.py:1103: InsecureRequestWarning: Unverified HTTPS request is being made to host 'ows.rasdaman.org'. Adding certificate verification is strongly advised. See: https://urllib3.readthedocs.io/en/latest/advanced-usage.html#tls-warnings\n",
      "  warnings.warn(\n",
      "DEBUG:urllib3.connectionpool:https://ows.rasdaman.org:443 \"POST /rasdaman/ows/wcps HTTP/1.1\" 200 9\n"
     ]
    },
    {
     "name": "stdout",
     "output_type": "stream",
     "text": [
      "query for $c in (AvgLandTemp) return min($c[Lat(53.08), Long(8.8), ansi('\"2014-01\":\"2014-12\"')])\n",
      "Minimum Temperature: 2.2834647\n"
     ]
    }
   ],
   "source": [
    "# Fetch the minimum temperature value\n",
    "min_temp_data = dbc('AvgLandTemp')\n",
    "min_result = min_temp_data.range_subset(53.08, 8.80, \"\\\"2014-01\\\":\\\"2014-12\\\"\").min().fetch()\n",
    "print(\"Minimum Temperature:\", min_result.decode('utf-8'))"
   ]
  },
  {
   "cell_type": "code",
   "execution_count": 7,
   "metadata": {},
   "outputs": [
    {
     "name": "stderr",
     "output_type": "stream",
     "text": [
      "DEBUG:root:Sending WCPS query: for $c in (AvgLandTemp) return max($c[Lat(53.08), Long(8.8), ansi('\"2014-01\":\"2014-12\"')])\n",
      "DEBUG:urllib3.connectionpool:Starting new HTTPS connection (1): ows.rasdaman.org:443\n",
      "/home/aeon/Documents/SE_Sprint1/myvenv/lib/python3.10/site-packages/urllib3/connectionpool.py:1103: InsecureRequestWarning: Unverified HTTPS request is being made to host 'ows.rasdaman.org'. Adding certificate verification is strongly advised. See: https://urllib3.readthedocs.io/en/latest/advanced-usage.html#tls-warnings\n",
      "  warnings.warn(\n",
      "DEBUG:urllib3.connectionpool:https://ows.rasdaman.org:443 \"POST /rasdaman/ows/wcps HTTP/1.1\" 200 9\n"
     ]
    },
    {
     "name": "stdout",
     "output_type": "stream",
     "text": [
      "query for $c in (AvgLandTemp) return max($c[Lat(53.08), Long(8.8), ansi('\"2014-01\":\"2014-12\"')])\n",
      "Maximum Temperature: 25.984251\n"
     ]
    }
   ],
   "source": [
    "# Fetch the maximum temperature value\n",
    "max_temp_data = dbc('AvgLandTemp')\n",
    "max_result = max_temp_data.range_subset(53.08, 8.80, \"\\\"2014-01\\\":\\\"2014-12\\\"\").max().fetch()\n",
    "print(\"Maximum Temperature:\", max_result.decode('utf-8'))"
   ]
  },
  {
   "cell_type": "code",
   "execution_count": 8,
   "metadata": {},
   "outputs": [
    {
     "name": "stderr",
     "output_type": "stream",
     "text": [
      "DEBUG:root:Sending WCPS query: for $c in (AvgLandTemp) return avg($c[Lat(53.08), Long(8.8), ansi('\"2014-01\":\"2014-12\"')])\n",
      "DEBUG:urllib3.connectionpool:Starting new HTTPS connection (1): ows.rasdaman.org:443\n",
      "/home/aeon/Documents/SE_Sprint1/myvenv/lib/python3.10/site-packages/urllib3/connectionpool.py:1103: InsecureRequestWarning: Unverified HTTPS request is being made to host 'ows.rasdaman.org'. Adding certificate verification is strongly advised. See: https://urllib3.readthedocs.io/en/latest/advanced-usage.html#tls-warnings\n",
      "  warnings.warn(\n",
      "DEBUG:urllib3.connectionpool:https://ows.rasdaman.org:443 \"POST /rasdaman/ows/wcps HTTP/1.1\" 200 18\n"
     ]
    },
    {
     "name": "stdout",
     "output_type": "stream",
     "text": [
      "query for $c in (AvgLandTemp) return avg($c[Lat(53.08), Long(8.8), ansi('\"2014-01\":\"2014-12\"')])\n",
      "Average Temperature: 15.052493472894033\n"
     ]
    }
   ],
   "source": [
    "# Calculate the average temperature\n",
    "avg_temp_data = dbc('AvgLandTemp')\n",
    "avg_result = avg_temp_data.range_subset(53.08, 8.80, \"\\\"2014-01\\\":\\\"2014-12\\\"\").avg().fetch()\n",
    "print(\"Average Temperature:\", avg_result.decode('utf-8'))"
   ]
  },
  {
   "cell_type": "markdown",
   "metadata": {},
   "source": [
    "## Conclusion\n",
    "This notebook has provided an overview of how to use the `wdc` package to perform a variety of queries on geospatial data. By following these examples, you can retrieve valuable insights and visualize geospatial data directly from a WCPS server. More examples will be added in the later sprints :)"
   ]
  }
 ],
 "metadata": {
  "kernelspec": {
   "display_name": "myvenv",
   "language": "python",
   "name": "python3"
  },
  "language_info": {
   "codemirror_mode": {
    "name": "ipython",
    "version": 3
   },
   "file_extension": ".py",
   "mimetype": "text/x-python",
   "name": "python",
   "nbconvert_exporter": "python",
   "pygments_lexer": "ipython3",
   "version": "3.10.12"
  }
 },
 "nbformat": 4,
 "nbformat_minor": 2
}
